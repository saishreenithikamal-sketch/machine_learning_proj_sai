{
  "cells": [
    {
      "cell_type": "markdown",
      "metadata": {
        "id": "view-in-github",
        "colab_type": "text"
      },
      "source": [
        "<a href=\"https://colab.research.google.com/github/saishreenithikamal-sketch/machine_learning_proj_sai/blob/main/Welcome_To_Colab.ipynb\" target=\"_parent\"><img src=\"https://colab.research.google.com/assets/colab-badge.svg\" alt=\"Open In Colab\"/></a>"
      ]
    },
    {
      "cell_type": "code",
      "source": [
        "import pandas as pd\n",
        "import re\n",
        "from sklearn.model_selection import train_test_split\n",
        "from sklearn.feature_extraction.text import TfidfVectorizer\n",
        "from sklearn.linear_model import LogisticRegression\n",
        "a = pd.read_csv(\"/content/IMDB Dataset.csv\")\n",
        "X = a['review']\n",
        "y = a['sentiment'].map({\"positive\": 1, \"negative\": 0})\n",
        "negation_map = {\n",
        "    \"not bad\": \"good\",\n",
        "    \"not too bad\": \"good\",\n",
        "    \"not terrible\": \"good\",\n",
        "    \"not horrible\": \"good\",\n",
        "    \"not amazing\": \"bad\",\n",
        "    \"not great\": \"bad\",\n",
        "    \"not good\": \"bad\",\n",
        "}\n",
        "\n",
        "def handle_negation(text):\n",
        "    text = text.lower()\n",
        "    for phrase, replacement in negation_map.items():\n",
        "        text = text.replace(phrase, replacement)\n",
        "    text = re.sub(r\"\\bnot\\s+(\\w+)\", r\"not_\\1\", text)\n",
        "    return text\n",
        "vectorizer = TfidfVectorizer(\n",
        "    preprocessor=handle_negation,\n",
        "    ngram_range=(1,2),\n",
        "    stop_words=\"english\",\n",
        "    max_features=50000\n",
        ")\n",
        "X_vec = vectorizer.fit_transform(X)\n",
        "X_train, X_test, y_train, y_test = train_test_split(\n",
        "    X_vec, y, test_size=0.2, random_state=42\n",
        ")\n",
        "log_reg = LogisticRegression(max_iter=500)\n",
        "log_reg.fit(X_train, y_train)\n",
        "sample = [\n",
        "    \"This movie was not amazing!\",\n",
        "    \"I hated the film\",\n",
        "    \"Absolutely wonderful acting!\",\n",
        "    \"Not good at all\",\n",
        "    \"The plot was not bad\"\n",
        "]\n",
        "\n",
        "sample_vec = vectorizer.transform(sample)\n",
        "preds = log_reg.predict(sample_vec)\n",
        "\n",
        "print(\"Custom Predictions:\")\n",
        "for review, pred in zip(sample, preds):\n",
        "    print(f\"{review} -> {'Positive' if pred==1 else 'Negative'}\")\n",
        "\n",
        "accuracy = log_reg.score(X_test, y_test)\n",
        "print(\"\\nTest Accuracy:\", accuracy)\n"
      ],
      "metadata": {
        "id": "_x0M3y8Mm1ZS"
      },
      "execution_count": null,
      "outputs": []
    }
  ],
  "metadata": {
    "colab": {
      "name": "Welcome To Colab",
      "provenance": [],
      "include_colab_link": true
    },
    "kernelspec": {
      "display_name": "Python 3",
      "name": "python3"
    }
  },
  "nbformat": 4,
  "nbformat_minor": 0
}